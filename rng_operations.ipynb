{
 "cells": [
  {
   "cell_type": "code",
   "execution_count": 1,
   "id": "a12392bc",
   "metadata": {},
   "outputs": [],
   "source": [
    "import numpy as np\n",
    "import pandas as pd"
   ]
  },
  {
   "cell_type": "code",
   "execution_count": 2,
   "id": "bebd7d62",
   "metadata": {},
   "outputs": [],
   "source": [
    "rng = np.random.default_rng(616)"
   ]
  },
  {
   "cell_type": "code",
   "execution_count": 3,
   "id": "941b4428",
   "metadata": {},
   "outputs": [],
   "source": [
    "inventory = rng.integers(0, 100, 10)"
   ]
  },
  {
   "cell_type": "code",
   "execution_count": 69,
   "id": "e9ccf11f",
   "metadata": {},
   "outputs": [
    {
     "data": {
      "text/plain": [
       "array([39, 39, 93, 86, 48, 46, 48, 30, 11, 57], dtype=int64)"
      ]
     },
     "execution_count": 69,
     "metadata": {},
     "output_type": "execute_result"
    }
   ],
   "source": [
    "inventory"
   ]
  },
  {
   "cell_type": "code",
   "execution_count": 5,
   "id": "f13621a6",
   "metadata": {},
   "outputs": [
    {
     "data": {
      "text/plain": [
       "array([19, 19, 73, 66, 28, 26, 28, 10, -9, 37], dtype=int64)"
      ]
     },
     "execution_count": 5,
     "metadata": {},
     "output_type": "execute_result"
    }
   ],
   "source": [
    "inventory - 20"
   ]
  },
  {
   "cell_type": "code",
   "execution_count": 6,
   "id": "cdb7cf94",
   "metadata": {},
   "outputs": [
    {
     "data": {
      "text/plain": [
       "dtype('float64')"
      ]
     },
     "execution_count": 6,
     "metadata": {},
     "output_type": "execute_result"
    }
   ],
   "source": [
    "(inventory /2).dtype"
   ]
  },
  {
   "cell_type": "code",
   "execution_count": 7,
   "id": "dc30dd2e",
   "metadata": {},
   "outputs": [
    {
     "data": {
      "text/plain": [
       "array([0.89, 8.82, 7.32, 7.32, 5.62, 3.4 , 0.63, 3.57, 2.03, 4.31])"
      ]
     },
     "execution_count": 7,
     "metadata": {},
     "output_type": "execute_result"
    }
   ],
   "source": [
    "price = (rng.random(10)*10).round(2)\n",
    "price"
   ]
  },
  {
   "cell_type": "code",
   "execution_count": 8,
   "id": "a0b71af4",
   "metadata": {},
   "outputs": [
    {
     "data": {
      "text/plain": [
       "2520.4700000000003"
      ]
     },
     "execution_count": 8,
     "metadata": {},
     "output_type": "execute_result"
    }
   ],
   "source": [
    "(price*inventory).sum()"
   ]
  },
  {
   "cell_type": "code",
   "execution_count": 9,
   "id": "b9d9ab31",
   "metadata": {},
   "outputs": [
    {
     "data": {
      "text/plain": [
       "[39, 39, 93, 86, 48, 46, 48, 30, 11, 57]"
      ]
     },
     "execution_count": 9,
     "metadata": {},
     "output_type": "execute_result"
    }
   ],
   "source": [
    "inventory_list = list(inventory)\n",
    "inventory_list"
   ]
  },
  {
   "cell_type": "code",
   "execution_count": 10,
   "id": "503c91e8",
   "metadata": {},
   "outputs": [
    {
     "data": {
      "text/plain": [
       "[78, 78, 186, 172, 96, 92, 96, 60, 22, 114]"
      ]
     },
     "execution_count": 10,
     "metadata": {},
     "output_type": "execute_result"
    }
   ],
   "source": [
    "[x*2 for x in inventory_list]"
   ]
  },
  {
   "cell_type": "code",
   "execution_count": 11,
   "id": "c38a95d3",
   "metadata": {},
   "outputs": [
    {
     "data": {
      "text/plain": [
       "[34.71,\n",
       " 343.98,\n",
       " 680.76,\n",
       " 629.52,\n",
       " 269.76,\n",
       " 156.4,\n",
       " 30.240000000000002,\n",
       " 107.1,\n",
       " 22.33,\n",
       " 245.67]"
      ]
     },
     "execution_count": 11,
     "metadata": {},
     "output_type": "execute_result"
    }
   ],
   "source": [
    "[x*y for x, y in zip(inventory_list,price)]"
   ]
  },
  {
   "cell_type": "code",
   "execution_count": 12,
   "id": "d399a9c7",
   "metadata": {},
   "outputs": [],
   "source": [
    "my_array = np.arange(20)"
   ]
  },
  {
   "cell_type": "code",
   "execution_count": 13,
   "id": "a98d617d",
   "metadata": {},
   "outputs": [
    {
     "data": {
      "text/plain": [
       "array([ 0,  1,  2,  3,  4,  5,  6,  7,  8,  9, 10, 11, 12, 13, 14, 15, 16,\n",
       "       17, 18, 19])"
      ]
     },
     "execution_count": 13,
     "metadata": {},
     "output_type": "execute_result"
    }
   ],
   "source": [
    "my_array"
   ]
  },
  {
   "cell_type": "code",
   "execution_count": 14,
   "id": "a948b13a",
   "metadata": {},
   "outputs": [
    {
     "data": {
      "text/plain": [
       "array([ 0,  2,  4,  6,  8, 10, 12, 14, 16, 18])"
      ]
     },
     "execution_count": 14,
     "metadata": {},
     "output_type": "execute_result"
    }
   ],
   "source": [
    "my_array[my_array%2==0]"
   ]
  },
  {
   "cell_type": "code",
   "execution_count": 15,
   "id": "ea437e01",
   "metadata": {},
   "outputs": [],
   "source": [
    "mask = my_array%2!=0"
   ]
  },
  {
   "cell_type": "code",
   "execution_count": 16,
   "id": "4c481d90",
   "metadata": {},
   "outputs": [
    {
     "data": {
      "text/plain": [
       "array([ 1,  3,  5,  7,  9, 11, 13, 15, 17, 19])"
      ]
     },
     "execution_count": 16,
     "metadata": {},
     "output_type": "execute_result"
    }
   ],
   "source": [
    "my_array[mask]"
   ]
  },
  {
   "cell_type": "code",
   "execution_count": 17,
   "id": "d98a062f",
   "metadata": {},
   "outputs": [],
   "source": [
    "even_odd = np.array(['even', 'odd']*10)"
   ]
  },
  {
   "cell_type": "code",
   "execution_count": 18,
   "id": "ed32eacb",
   "metadata": {},
   "outputs": [
    {
     "data": {
      "text/plain": [
       "array(['even', 'odd', 'even', 'odd', 'even', 'odd', 'even', 'odd', 'even',\n",
       "       'odd', 'even', 'odd', 'even', 'odd', 'even', 'odd', 'even', 'odd',\n",
       "       'even', 'odd'], dtype='<U4')"
      ]
     },
     "execution_count": 18,
     "metadata": {},
     "output_type": "execute_result"
    }
   ],
   "source": [
    "even_odd"
   ]
  },
  {
   "cell_type": "code",
   "execution_count": 19,
   "id": "c491a2f1",
   "metadata": {},
   "outputs": [
    {
     "data": {
      "text/plain": [
       "array([ True, False,  True, False,  True, False,  True, False,  True,\n",
       "       False,  True, False,  True, False,  True, False,  True, False,\n",
       "        True, False])"
      ]
     },
     "execution_count": 19,
     "metadata": {},
     "output_type": "execute_result"
    }
   ],
   "source": [
    "even_odd != 'odd'"
   ]
  },
  {
   "cell_type": "code",
   "execution_count": 20,
   "id": "bbfd8c2b",
   "metadata": {},
   "outputs": [
    {
     "data": {
      "text/plain": [
       "array(['odd', 'odd', 'odd', 'odd', 'odd', 'odd', 'odd', 'odd', 'odd',\n",
       "       'odd'], dtype='<U4')"
      ]
     },
     "execution_count": 20,
     "metadata": {},
     "output_type": "execute_result"
    }
   ],
   "source": [
    "even_odd[even_odd != \"even\"]"
   ]
  },
  {
   "cell_type": "code",
   "execution_count": 21,
   "id": "82e69f24",
   "metadata": {},
   "outputs": [
    {
     "data": {
      "text/plain": [
       "array([22,  1, 22,  3, 22,  5, 22,  7, 22,  9, 22, 11, 22, 13, 22, 15, 22,\n",
       "       17, 22, 19])"
      ]
     },
     "execution_count": 21,
     "metadata": {},
     "output_type": "execute_result"
    }
   ],
   "source": [
    "my_array[even_odd != \"odd\"] = 22\n",
    "my_array"
   ]
  },
  {
   "cell_type": "code",
   "execution_count": 22,
   "id": "ff01de03",
   "metadata": {},
   "outputs": [],
   "source": [
    "my_array[1]=100000"
   ]
  },
  {
   "cell_type": "code",
   "execution_count": 23,
   "id": "940c26d4",
   "metadata": {},
   "outputs": [
    {
     "data": {
      "text/plain": [
       "array([    22, 100000,     22,      3,     22,      5,     22,      7,\n",
       "           22,      9,     22,     11,     22,     13,     22,     15,\n",
       "           22,     17,     22,     19])"
      ]
     },
     "execution_count": 23,
     "metadata": {},
     "output_type": "execute_result"
    }
   ],
   "source": [
    "my_array"
   ]
  },
  {
   "cell_type": "code",
   "execution_count": 24,
   "id": "c4bcb316",
   "metadata": {},
   "outputs": [
    {
     "data": {
      "text/plain": [
       "array([    22, 100000,     22,     22,     22,     22,     22,     22,\n",
       "           22,     22,     22])"
      ]
     },
     "execution_count": 24,
     "metadata": {},
     "output_type": "execute_result"
    }
   ],
   "source": [
    "mask = (my_array>=100000) | (my_array==22)\n",
    "my_array[mask]"
   ]
  },
  {
   "cell_type": "code",
   "execution_count": 25,
   "id": "889e244b",
   "metadata": {},
   "outputs": [
    {
     "data": {
      "text/plain": [
       "array([100000,      3,      5,      7,      9,     11,     13,     15,\n",
       "           17,     19])"
      ]
     },
     "execution_count": 25,
     "metadata": {},
     "output_type": "execute_result"
    }
   ],
   "source": [
    "mask = (my_array>100000) | (my_array!=22)\n",
    "my_array[mask]"
   ]
  },
  {
   "cell_type": "code",
   "execution_count": 26,
   "id": "b3795dae",
   "metadata": {},
   "outputs": [
    {
     "data": {
      "text/plain": [
       "array(['Available', 'Available', 'Available', 'Available', 'Available',\n",
       "       'Not available', 'Available', 'Available', 'Available',\n",
       "       'Available', 'Available', 'Available', 'Available', 'Available',\n",
       "       'Available', 'Available', 'Available', 'Available', 'Available',\n",
       "       'Available'], dtype='<U13')"
      ]
     },
     "execution_count": 26,
     "metadata": {},
     "output_type": "execute_result"
    }
   ],
   "source": [
    "np.where(my_array - 5 ==0, \"Not available\", \"Available\")"
   ]
  },
  {
   "cell_type": "code",
   "execution_count": 27,
   "id": "f55db77a",
   "metadata": {},
   "outputs": [
    {
     "data": {
      "text/plain": [
       "array([39, 39, 93, 86, 48, 46, 48, 30, 11, 57], dtype=int64)"
      ]
     },
     "execution_count": 27,
     "metadata": {},
     "output_type": "execute_result"
    }
   ],
   "source": [
    "inventory"
   ]
  },
  {
   "cell_type": "code",
   "execution_count": 28,
   "id": "9184bc5c",
   "metadata": {},
   "outputs": [
    {
     "data": {
      "text/plain": [
       "497"
      ]
     },
     "execution_count": 28,
     "metadata": {},
     "output_type": "execute_result"
    }
   ],
   "source": [
    "inventory.sum()"
   ]
  },
  {
   "cell_type": "code",
   "execution_count": 29,
   "id": "12aced9e",
   "metadata": {},
   "outputs": [
    {
     "data": {
      "text/plain": [
       "49.7"
      ]
     },
     "execution_count": 29,
     "metadata": {},
     "output_type": "execute_result"
    }
   ],
   "source": [
    "inventory.mean()"
   ]
  },
  {
   "cell_type": "code",
   "execution_count": 30,
   "id": "a7d16a48",
   "metadata": {},
   "outputs": [],
   "source": [
    "hello=np.array([1,6])"
   ]
  },
  {
   "cell_type": "code",
   "execution_count": 31,
   "id": "5d896ac3",
   "metadata": {},
   "outputs": [
    {
     "data": {
      "text/plain": [
       "array([1, 6])"
      ]
     },
     "execution_count": 31,
     "metadata": {},
     "output_type": "execute_result"
    }
   ],
   "source": [
    "hello"
   ]
  },
  {
   "cell_type": "code",
   "execution_count": 32,
   "id": "3a833974",
   "metadata": {},
   "outputs": [
    {
     "data": {
      "text/plain": [
       "3.5"
      ]
     },
     "execution_count": 32,
     "metadata": {},
     "output_type": "execute_result"
    }
   ],
   "source": [
    "hello.mean()"
   ]
  },
  {
   "cell_type": "code",
   "execution_count": 33,
   "id": "b9527983",
   "metadata": {},
   "outputs": [
    {
     "data": {
      "text/plain": [
       "2.5"
      ]
     },
     "execution_count": 33,
     "metadata": {},
     "output_type": "execute_result"
    }
   ],
   "source": [
    "hello.std()"
   ]
  },
  {
   "cell_type": "code",
   "execution_count": 34,
   "id": "c658b7c7",
   "metadata": {},
   "outputs": [
    {
     "data": {
      "text/plain": [
       "array([[0.89, 8.82],\n",
       "       [7.32, 7.32],\n",
       "       [5.62, 3.4 ],\n",
       "       [0.63, 3.57],\n",
       "       [2.03, 4.31]])"
      ]
     },
     "execution_count": 34,
     "metadata": {},
     "output_type": "execute_result"
    }
   ],
   "source": [
    "price.reshape(5,2)"
   ]
  },
  {
   "cell_type": "code",
   "execution_count": 35,
   "id": "6343b00e",
   "metadata": {},
   "outputs": [],
   "source": [
    "prices = np.arange(1,11)"
   ]
  },
  {
   "cell_type": "code",
   "execution_count": 36,
   "id": "cf65d3e4",
   "metadata": {},
   "outputs": [
    {
     "data": {
      "text/plain": [
       "array([[ 1,  2],\n",
       "       [ 3,  4],\n",
       "       [ 5,  6],\n",
       "       [ 7,  8],\n",
       "       [ 9, 10]])"
      ]
     },
     "execution_count": 36,
     "metadata": {},
     "output_type": "execute_result"
    }
   ],
   "source": [
    "new_prices=prices.reshape(5,2)\n",
    "new_prices"
   ]
  },
  {
   "cell_type": "code",
   "execution_count": 37,
   "id": "d773dcd2",
   "metadata": {},
   "outputs": [
    {
     "data": {
      "text/plain": [
       "array([25, 30])"
      ]
     },
     "execution_count": 37,
     "metadata": {},
     "output_type": "execute_result"
    }
   ],
   "source": [
    "\n",
    "new_prices.sum(axis=0)"
   ]
  },
  {
   "cell_type": "code",
   "execution_count": 41,
   "id": "403fdee2",
   "metadata": {},
   "outputs": [
    {
     "data": {
      "text/plain": [
       "array([0, 1, 2, 3, 4])"
      ]
     },
     "execution_count": 41,
     "metadata": {},
     "output_type": "execute_result"
    }
   ],
   "source": [
    "array = np.arange(5)\n",
    "array"
   ]
  },
  {
   "cell_type": "code",
   "execution_count": 42,
   "id": "3cd01aa1",
   "metadata": {},
   "outputs": [],
   "source": [
    "pda = pd.Series(array)"
   ]
  },
  {
   "cell_type": "code",
   "execution_count": 43,
   "id": "5209df52",
   "metadata": {},
   "outputs": [
    {
     "data": {
      "text/plain": [
       "0    0\n",
       "1    1\n",
       "2    2\n",
       "3    3\n",
       "4    4\n",
       "dtype: int32"
      ]
     },
     "execution_count": 43,
     "metadata": {},
     "output_type": "execute_result"
    }
   ],
   "source": [
    "pda"
   ]
  },
  {
   "cell_type": "code",
   "execution_count": 53,
   "id": "fb5cde46",
   "metadata": {},
   "outputs": [],
   "source": [
    "series = pd.Series(np.array([7,5,6,5]), name=\"series\")"
   ]
  },
  {
   "cell_type": "code",
   "execution_count": 57,
   "id": "a0306168",
   "metadata": {},
   "outputs": [
    {
     "data": {
      "text/plain": [
       "array([7, 5, 6, 5])"
      ]
     },
     "execution_count": 57,
     "metadata": {},
     "output_type": "execute_result"
    }
   ],
   "source": [
    "mean = series.values\n",
    "mean"
   ]
  },
  {
   "cell_type": "code",
   "execution_count": 58,
   "id": "84aaef56",
   "metadata": {},
   "outputs": [
    {
     "data": {
      "text/plain": [
       "5.75"
      ]
     },
     "execution_count": 58,
     "metadata": {},
     "output_type": "execute_result"
    }
   ],
   "source": [
    "mean.mean()"
   ]
  },
  {
   "cell_type": "code",
   "execution_count": 62,
   "id": "39c5763b",
   "metadata": {},
   "outputs": [
    {
     "data": {
      "text/plain": [
       "10    7\n",
       "20    5\n",
       "30    6\n",
       "40    5\n",
       "Name: series, dtype: int32"
      ]
     },
     "execution_count": 62,
     "metadata": {},
     "output_type": "execute_result"
    }
   ],
   "source": [
    "series.index = [10,20,30,40]\n",
    "series"
   ]
  },
  {
   "cell_type": "code",
   "execution_count": 68,
   "id": "27b8df6b",
   "metadata": {},
   "outputs": [
    {
     "data": {
      "text/plain": [
       "23"
      ]
     },
     "execution_count": 68,
     "metadata": {},
     "output_type": "execute_result"
    }
   ],
   "source": [
    "series.sum()"
   ]
  },
  {
   "cell_type": "code",
   "execution_count": 67,
   "id": "c49482c3",
   "metadata": {},
   "outputs": [
    {
     "data": {
      "text/plain": [
       "5.75"
      ]
     },
     "execution_count": 67,
     "metadata": {},
     "output_type": "execute_result"
    }
   ],
   "source": [
    "series.astype(\"float\").mean()"
   ]
  },
  {
   "cell_type": "code",
   "execution_count": 65,
   "id": "4d9a05e0",
   "metadata": {},
   "outputs": [
    {
     "data": {
      "text/plain": [
       "10    True\n",
       "20    True\n",
       "30    True\n",
       "40    True\n",
       "Name: series, dtype: bool"
      ]
     },
     "execution_count": 65,
     "metadata": {},
     "output_type": "execute_result"
    }
   ],
   "source": [
    "series.astype(\"bool\")"
   ]
  },
  {
   "cell_type": "code",
   "execution_count": 66,
   "id": "16f4edae",
   "metadata": {},
   "outputs": [
    {
     "data": {
      "text/plain": [
       "10    7\n",
       "20    5\n",
       "30    6\n",
       "40    5\n",
       "Name: series, dtype: object"
      ]
     },
     "execution_count": 66,
     "metadata": {},
     "output_type": "execute_result"
    }
   ],
   "source": [
    "series.astype(\"object\")"
   ]
  },
  {
   "cell_type": "code",
   "execution_count": 71,
   "id": "41396a44",
   "metadata": {},
   "outputs": [
    {
     "name": "stdout",
     "output_type": "stream",
     "text": [
      "<class 'pandas.core.series.Series'>\n",
      "Index: 4 entries, 10 to 40\n",
      "Series name: series\n",
      "Non-Null Count  Dtype\n",
      "--------------  -----\n",
      "4 non-null      int32\n",
      "dtypes: int32(1)\n",
      "memory usage: 48.0 bytes\n"
     ]
    }
   ],
   "source": [
    "series.info(show_counts=True)"
   ]
  },
  {
   "cell_type": "raw",
   "id": "a3e3facf",
   "metadata": {},
   "source": [
    "series.describe()"
   ]
  },
  {
   "cell_type": "code",
   "execution_count": null,
   "id": "b95c08a0",
   "metadata": {},
   "outputs": [],
   "source": []
  }
 ],
 "metadata": {
  "kernelspec": {
   "display_name": "Python 3 (ipykernel)",
   "language": "python",
   "name": "python3"
  },
  "language_info": {
   "codemirror_mode": {
    "name": "ipython",
    "version": 3
   },
   "file_extension": ".py",
   "mimetype": "text/x-python",
   "name": "python",
   "nbconvert_exporter": "python",
   "pygments_lexer": "ipython3",
   "version": "3.11.5"
  }
 },
 "nbformat": 4,
 "nbformat_minor": 5
}
